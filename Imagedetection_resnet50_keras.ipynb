{
  "nbformat": 4,
  "nbformat_minor": 0,
  "metadata": {
    "colab": {
      "name": "Imagedetection_resnet50_keras.ipynb",
      "provenance": [],
      "authorship_tag": "ABX9TyMqbuW+E+49r/yXNOTX8srE",
      "include_colab_link": true
    },
    "kernelspec": {
      "name": "python3",
      "display_name": "Python 3"
    },
    "accelerator": "GPU"
  },
  "cells": [
    {
      "cell_type": "markdown",
      "metadata": {
        "id": "view-in-github",
        "colab_type": "text"
      },
      "source": [
        "<a href=\"https://colab.research.google.com/github/khalidakram07/Image_detection/blob/main/Imagedetection_resnet50_keras.ipynb\" target=\"_parent\"><img src=\"https://colab.research.google.com/assets/colab-badge.svg\" alt=\"Open In Colab\"/></a>"
      ]
    },
    {
      "cell_type": "code",
      "metadata": {
        "colab": {
          "base_uri": "https://localhost:8080/"
        },
        "id": "46B4sGSPzFZs",
        "outputId": "ad2b9306-3639-4b31-f32e-02242e2af2a8"
      },
      "source": [
        "#The following code detects any image using pretrained Restnet50 model on Keras.\r\n",
        "\r\n",
        "\r\n",
        "import numpy as np\r\n",
        "from keras.preprocessing import image\r\n",
        "from keras.applications import resnet50\r\n",
        "\r\n",
        "# Load Keras' ResNet50 model that was pre-trained against the ImageNet database\r\n",
        "model = resnet50.ResNet50()\r\n",
        "\r\n",
        "# Load the image file, resizing it to 224x224 pixels (required by this model)\r\n",
        "img = image.load_img(\"bd.PNG\", target_size=(224, 224))\r\n",
        "\r\n",
        "# Convert the image to a numpy array\r\n",
        "x = image.img_to_array(img)\r\n",
        "\r\n",
        "# Add a forth dimension since Keras expects a list of images\r\n",
        "x = np.expand_dims(x, axis=0)\r\n",
        "\r\n",
        "# Scale the input image to the range used in the trained network\r\n",
        "x = resnet50.preprocess_input(x)\r\n",
        "\r\n",
        "# Run the image through the deep neural network to make a prediction\r\n",
        "predictions = model.predict(x)\r\n",
        "\r\n",
        "# Look up the names of the predicted classes. Index zero is the results for the first image.\r\n",
        "predicted_classes = resnet50.decode_predictions(predictions, top=9)\r\n",
        "\r\n",
        "print(\"This is an image of:\")\r\n",
        "\r\n",
        "for imagenet_id, name, likelihood in predicted_classes[0]:\r\n",
        "    print(\" - {}: {:2f} likelihood\".format(name, likelihood))\r\n",
        "\r\n"
      ],
      "execution_count": 2,
      "outputs": [
        {
          "output_type": "stream",
          "text": [
            "This is an image of:\n",
            " - giant_panda: 0.991085 likelihood\n",
            " - soccer_ball: 0.002867 likelihood\n",
            " - lesser_panda: 0.001532 likelihood\n",
            " - langur: 0.000774 likelihood\n",
            " - teddy: 0.000491 likelihood\n",
            " - gibbon: 0.000391 likelihood\n",
            " - indri: 0.000254 likelihood\n",
            " - ladybug: 0.000223 likelihood\n",
            " - African_grey: 0.000215 likelihood\n"
          ],
          "name": "stdout"
        }
      ]
    }
  ]
}